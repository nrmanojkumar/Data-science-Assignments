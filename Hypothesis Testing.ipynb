{
 "cells": [
  {
   "cell_type": "code",
   "execution_count": 1,
   "id": "76cc62be-6db6-48cb-b569-9388c137fd0f",
   "metadata": {},
   "outputs": [
    {
     "name": "stdout",
     "output_type": "stream",
     "text": [
      "Test Statistic:  -38.0\n",
      "Critical Value:  1.6448536269514722\n",
      "Decision:  Do not reject the null hypothesis\n",
      "Conclusion:  There is not enough evidence to support the restaurant owners' claim that the weekly operating costs are higher than the model suggests.\n"
     ]
    }
   ],
   "source": [
    "import math\n",
    "from scipy.stats import norm\n",
    "\n",
    "# Step 1: State the Hypotheses statement\n",
    "# Null Hypothesis (H0): μ = 1000 + 5*600\n",
    "# Alternative Hypothesis (H1): μ > 1000 + 5*600\n",
    "\n",
    "# Step 2: Calculate the Test Statistic\n",
    "sample_mean = 3050  \n",
    "mu = 1000 + 5*600  \n",
    "sigma = 5*25  \n",
    "n = 25  \n",
    "\n",
    "t = (sample_mean - mu) / (sigma / math.sqrt(n))  \n",
    "\n",
    "# Step 3: Determine the Critical Value\n",
    "alpha = 0.05  \n",
    "critical_value = norm.ppf(1 - alpha) \n",
    "\n",
    "# Step 4: Make a Decision\n",
    "if t > critical_value:\n",
    "    decision = \"Reject the null hypothesis\"\n",
    "else:\n",
    "    decision = \"Do not reject the null hypothesis\"\n",
    "\n",
    "# Step 5: Conclusion\n",
    "if decision == \"Reject the null hypothesis\":\n",
    "    conclusion = \"There is strong evidence to support the restaurant owners' claim that the weekly operating costs are higher than the model suggests.\"\n",
    "else:\n",
    "    conclusion = \"There is not enough evidence to support the restaurant owners' claim that the weekly operating costs are higher than the model suggests.\"\n",
    "\n",
    "print(\"Test Statistic: \", t)\n",
    "print(\"Critical Value: \", critical_value)\n",
    "print(\"Decision: \", decision)\n",
    "print(\"Conclusion: \", conclusion)\n"
   ]
  },
  {
   "cell_type": "code",
   "execution_count": null,
   "id": "c3d7b860-ec77-4244-b85c-d4add4ccb29e",
   "metadata": {},
   "outputs": [],
   "source": [
    " * State the Hypotheses statement:\n",
    "\n",
    "Null Hypothesis (H0): The weekly operating cost is equal to the theoretical cost model, i.e., μ = $1,000 + $5X\n",
    "Alternative Hypothesis (H1): The weekly operating cost is higher than the theoretical cost model, i.e., μ > $1,000 + $5X\n",
    "\n",
    "\n",
    "\n",
    " * Calculate the Test Statistic:\n",
    "\n",
    "The theoretical mean weekly cost according to the cost model (μ) = $1,000 + $5*600 = $4,000\n",
    "The sample mean weekly cost (x̄) = Rs. 3,050\n",
    "The standard deviation (σ) = 5*25 units = 125 units\n",
    "The sample size (n) = 25 restaurants\n",
    "The test statistic (t) can be calculated using the formula:t=σ/n​xˉ−μ​\n",
    "\n",
    " * Determine the Critical Value:\n",
    "\n",
    "For a one-tailed test with an alpha level of 5% (α = 0.05), the critical value from the standard normal (Z) distribution\n",
    "table can be found.\n",
    "\n",
    "Conclusion\n",
    "The hypothesis testing strongly supports the claim that the weekly operating costs for Bombay Hospitality Ltd.\n",
    "are higher than predicted by the current cost model. The substantial difference between the calculated test statistic \n",
    "and the critical value leads us to reject the null hypothesis, indicating that the model underestimates the actual costs."
   ]
  }
 ],
 "metadata": {
  "kernelspec": {
   "display_name": "Python 3 (ipykernel)",
   "language": "python",
   "name": "python3"
  },
  "language_info": {
   "codemirror_mode": {
    "name": "ipython",
    "version": 3
   },
   "file_extension": ".py",
   "mimetype": "text/x-python",
   "name": "python",
   "nbconvert_exporter": "python",
   "pygments_lexer": "ipython3",
   "version": "3.11.7"
  }
 },
 "nbformat": 4,
 "nbformat_minor": 5
}
