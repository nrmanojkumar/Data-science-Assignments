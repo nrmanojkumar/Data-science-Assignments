{
 "cells": [
  {
   "cell_type": "code",
   "execution_count": 1,
   "id": "ae91c48b-7442-4423-bec6-1c57c24798a0",
   "metadata": {},
   "outputs": [],
   "source": [
    "#Estimation And Confidence Intervals"
   ]
  },
  {
   "cell_type": "code",
   "execution_count": 2,
   "id": "3eaa93aa-9ae0-4cb5-9f53-1e75f0a22fef",
   "metadata": {},
   "outputs": [],
   "source": [
    "# a)"
   ]
  },
  {
   "cell_type": "code",
   "execution_count": 6,
   "id": "e25a213a-6477-441b-b8cb-b8a8fab1bb95",
   "metadata": {},
   "outputs": [
    {
     "name": "stdout",
     "output_type": "stream",
     "text": [
      "The 99% confidence interval using the sample standard deviation is: (1.090197338451367, 1.3871359948819662)\n"
     ]
    }
   ],
   "source": [
    "import numpy as np\n",
    "from scipy import stats\n",
    "data = np.array([1.13, 1.55, 1.43, 0.92, 1.25, 1.36, 1.32, 0.85, 1.07, 1.48, 1.20, 1.33, 1.18, 1.22, 1.29])\n",
    "mean = np.mean(data)\n",
    "std_dev = np.std(data, ddof=1)\n",
    "n = len(data)\n",
    "t_value = stats.t.ppf(1-0.01/2, df=n-1)\n",
    "margin_of_error = t_value * (std_dev/np.sqrt(n))\n",
    "confidence_interval = (mean - margin_of_error, mean + margin_of_error)\n",
    "print(\"The 99% confidence interval using the sample standard deviation is:\", confidence_interval)"
   ]
  },
  {
   "cell_type": "code",
   "execution_count": 4,
   "id": "1b46fe47-3814-40a7-88b4-170129abe3b4",
   "metadata": {},
   "outputs": [],
   "source": [
    "# b)"
   ]
  },
  {
   "cell_type": "code",
   "execution_count": 5,
   "id": "5e6a1ec2-2686-4387-8765-8369fbb64fac",
   "metadata": {},
   "outputs": [
    {
     "name": "stdout",
     "output_type": "stream",
     "text": [
      "The 99% confidence interval using the known population standard deviation is: (1.1056514133957607, 1.3716819199375725)\n"
     ]
    }
   ],
   "source": [
    "pop_std_dev = 0.2\n",
    "z_value = stats.norm.ppf(1-0.01/2)\n",
    "margin_of_error_pop = z_value * (pop_std_dev/np.sqrt(n))\n",
    "confidence_interval_pop = (mean - margin_of_error_pop, mean + margin_of_error_pop)\n",
    "print(\"The 99% confidence interval using the known population standard deviation is:\", confidence_interval_pop)"
   ]
  }
 ],
 "metadata": {
  "kernelspec": {
   "display_name": "Python 3 (ipykernel)",
   "language": "python",
   "name": "python3"
  },
  "language_info": {
   "codemirror_mode": {
    "name": "ipython",
    "version": 3
   },
   "file_extension": ".py",
   "mimetype": "text/x-python",
   "name": "python",
   "nbconvert_exporter": "python",
   "pygments_lexer": "ipython3",
   "version": "3.11.7"
  }
 },
 "nbformat": 4,
 "nbformat_minor": 5
}
